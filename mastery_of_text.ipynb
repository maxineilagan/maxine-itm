{
 "cells": [
  {
   "cell_type": "code",
   "execution_count": 1,
   "id": "63a15c29-496c-439a-ae13-cdebf734553c",
   "metadata": {},
   "outputs": [],
   "source": [
    "import urllib.request\n",
    "\n",
    "url = \"https://www.gutenberg.org/cache/epub/10/pg10.txt\"\n",
    "response = urllib.request.urlopen(url)\n",
    "pg10 = response.read().decode(\"utf-8\")"
   ]
  },
  {
   "cell_type": "code",
   "execution_count": 3,
   "id": "cb8f13d1-17a5-4645-913b-ce12499cf7f3",
   "metadata": {},
   "outputs": [
    {
     "name": "stdout",
     "output_type": "stream",
     "text": [
      "Q1 - Total number of lines: 99968\n"
     ]
    }
   ],
   "source": [
    "import re\n",
    "from collections import Counter\n",
    "\n",
    "# Q1 - Number of lines\n",
    "lines_total = len(pg10.splitlines())\n",
    "print(\"Q1 - Total number of lines:\", lines_total)"
   ]
  },
  {
   "cell_type": "code",
   "execution_count": 4,
   "id": "389a2554-2964-4c29-b44a-f8ced7748db0",
   "metadata": {},
   "outputs": [
    {
     "name": "stdout",
     "output_type": "stream",
     "text": [
      "Q2 - Total number of words: 795227\n"
     ]
    }
   ],
   "source": [
    "# Q2 - Number of words (alphabet characters only)\n",
    "word_list = re.findall(r\"[A-Za-z]+\", pg10)\n",
    "total_words = len(word_list)\n",
    "print(\"Q2 - Total number of words:\", total_words)"
   ]
  },
  {
   "cell_type": "code",
   "execution_count": 5,
   "id": "f295221c-c5f1-4a79-8537-61121f655cbe",
   "metadata": {},
   "outputs": [
    {
     "name": "stdout",
     "output_type": "stream",
     "text": [
      "Q3 - Number of times 'apostle' appears: 47\n"
     ]
    }
   ],
   "source": [
    "# Q3 - Count occurrences of 'apostle' (case-insensitive)\n",
    "apostle_count = sum(1 for word in word_list if word.lower() == \"apostle\")\n",
    "print(\"Q3 - Number of times 'apostle' appears:\", apostle_count)"
   ]
  },
  {
   "cell_type": "code",
   "execution_count": 6,
   "id": "184d0e8f-6f38-4bb3-ae31-8e30844066c6",
   "metadata": {},
   "outputs": [
    {
     "name": "stdout",
     "output_type": "stream",
     "text": [
      "Q4 - Most common word (case-insensitive): the → 64309 occurrences\n"
     ]
    }
   ],
   "source": [
    "# Q4 - Most common word (case-insensitive)\n",
    "word_counts = Counter(word.lower() for word in word_list)\n",
    "top_word, top_count = word_counts.most_common(1)[0]\n",
    "print(\"Q4 - Most common word (case-insensitive):\", top_word, \"→\", top_count, \"occurrences\")"
   ]
  },
  {
   "cell_type": "code",
   "execution_count": null,
   "id": "a55fcc22-520d-4bb4-aa36-650ef7d11ad1",
   "metadata": {},
   "outputs": [],
   "source": []
  },
  {
   "cell_type": "code",
   "execution_count": null,
   "id": "d2619d7e-3f81-4aee-a7b5-f6cd68be9afb",
   "metadata": {},
   "outputs": [],
   "source": []
  }
 ],
 "metadata": {
  "kernelspec": {
   "display_name": "Python [conda env:base] *",
   "language": "python",
   "name": "conda-base-py"
  },
  "language_info": {
   "codemirror_mode": {
    "name": "ipython",
    "version": 3
   },
   "file_extension": ".py",
   "mimetype": "text/x-python",
   "name": "python",
   "nbconvert_exporter": "python",
   "pygments_lexer": "ipython3",
   "version": "3.12.7"
  }
 },
 "nbformat": 4,
 "nbformat_minor": 5
}
